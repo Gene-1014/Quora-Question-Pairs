{
 "cells": [
  {
   "cell_type": "code",
   "execution_count": 1,
   "metadata": {},
   "outputs": [],
   "source": [
    "import numpy as np\n",
    "from sklearn.feature_extraction.text import TfidfVectorizer, CountVectorizer\n",
    "from sklearn.metrics import f1_score, classification_report, accuracy_score, log_loss\n",
    "import xgboost as xgb\n",
    "import scipy\n",
    "from sklearn.model_selection import train_test_split\n",
    "import pandas as pd"
   ]
  },
  {
   "cell_type": "code",
   "execution_count": 2,
   "metadata": {},
   "outputs": [],
   "source": [
    "train = pd.read_csv('qp_data/X_train.csv')"
   ]
  },
  {
   "cell_type": "code",
   "execution_count": 3,
   "metadata": {},
   "outputs": [],
   "source": [
    "y_train = train['is_duplicate'].values"
   ]
  },
  {
   "cell_type": "code",
   "execution_count": 4,
   "metadata": {},
   "outputs": [
    {
     "data": {
      "text/plain": [
       "array([0, 0, 0, 0, 0, 1, 0, 1, 0, 0, 0, 1, 1, 1, 0, 1, 1, 0, 1, 0, 1, 0,\n",
       "       0, 0, 0, 0, 0, 0, 0, 1, 0, 1, 1, 0, 0, 0, 0, 0, 1, 0, 0, 0, 0, 0,\n",
       "       0, 0, 0, 0, 1, 1, 1, 1, 0, 1, 0, 0, 0, 0, 1, 0, 0, 0, 1, 0, 0, 1,\n",
       "       1, 1, 0, 0, 0, 1, 1, 1, 1, 0, 0, 0, 0, 1, 0, 0, 0, 0, 1, 1, 1, 0,\n",
       "       1, 0, 0, 0, 1, 1, 0, 1, 0, 0, 0, 0], dtype=int64)"
      ]
     },
     "execution_count": 4,
     "metadata": {},
     "output_type": "execute_result"
    }
   ],
   "source": [
    "y_train[:100]"
   ]
  },
  {
   "cell_type": "code",
   "execution_count": 5,
   "metadata": {},
   "outputs": [],
   "source": [
    "X_train =train.drop('is_duplicate', axis=1,)"
   ]
  },
  {
   "cell_type": "code",
   "execution_count": 6,
   "metadata": {},
   "outputs": [
    {
     "data": {
      "text/plain": [
       "array(['word_match', 'tfidf_wm', 'tfidf_wm_stops', 'jaccard', 'wc_diff',\n",
       "       'wc_ratio', 'wc_diff_unique', 'wc_ratio_unique',\n",
       "       'wc_diff_unq_stop', 'wc_ratio_unique_stop', 'same_start',\n",
       "       'char_diff', 'char_diff_unq_stop', 'common_words',\n",
       "       'total_unique_words', 'total_unq_words_stop', 'char_ratio',\n",
       "       'len_q1', 'len_q2', 'diff_len', 'len_char_q1', 'len_char_q2',\n",
       "       'len_word_q1', 'len_word_q2', 'common_words.1', 'fuzz_qratio',\n",
       "       'fuzz_WRatio', 'fuzz_partial_ratio',\n",
       "       'fuzz_partial_token_set_ratio', 'fuzz_partial_token_sort_ratio',\n",
       "       'fuzz_token_set_ratio', 'fuzz_token_sort_ratio', 'wmd', 'norm_wmd',\n",
       "       'cosine_distance', 'cityblock_distance', 'canberra_distance',\n",
       "       'minkowski_distance', 'braycurtis_distance', 'skew_q1vec',\n",
       "       'skew_q2vec', 'kur_q1vec', 'q1_q2_intersect', 'q1_freq', 'q2_freq'],\n",
       "      dtype=object)"
      ]
     },
     "execution_count": 6,
     "metadata": {},
     "output_type": "execute_result"
    }
   ],
   "source": [
    "X_train.columns.values"
   ]
  },
  {
   "cell_type": "code",
   "execution_count": 7,
   "metadata": {},
   "outputs": [
    {
     "data": {
      "text/plain": [
       "(404290, 45)"
      ]
     },
     "execution_count": 7,
     "metadata": {},
     "output_type": "execute_result"
    }
   ],
   "source": [
    "X_train.shape"
   ]
  },
  {
   "cell_type": "code",
   "execution_count": 8,
   "metadata": {},
   "outputs": [],
   "source": [
    "X_train, X_valid, y_train, y_valid = train_test_split(X_train, y_train, test_size=0.1, random_state=4242)"
   ]
  },
  {
   "cell_type": "code",
   "execution_count": 9,
   "metadata": {},
   "outputs": [
    {
     "data": {
      "text/plain": [
       "(363861, 45)"
      ]
     },
     "execution_count": 9,
     "metadata": {},
     "output_type": "execute_result"
    }
   ],
   "source": [
    "X_train.shape"
   ]
  },
  {
   "cell_type": "code",
   "execution_count": 10,
   "metadata": {},
   "outputs": [
    {
     "data": {
      "text/html": [
       "<div>\n",
       "<style scoped>\n",
       "    .dataframe tbody tr th:only-of-type {\n",
       "        vertical-align: middle;\n",
       "    }\n",
       "\n",
       "    .dataframe tbody tr th {\n",
       "        vertical-align: top;\n",
       "    }\n",
       "\n",
       "    .dataframe thead th {\n",
       "        text-align: right;\n",
       "    }\n",
       "</style>\n",
       "<table border=\"1\" class=\"dataframe\">\n",
       "  <thead>\n",
       "    <tr style=\"text-align: right;\">\n",
       "      <th></th>\n",
       "      <th>word_match</th>\n",
       "      <th>tfidf_wm</th>\n",
       "      <th>tfidf_wm_stops</th>\n",
       "      <th>jaccard</th>\n",
       "      <th>wc_diff</th>\n",
       "      <th>wc_ratio</th>\n",
       "      <th>wc_diff_unique</th>\n",
       "      <th>wc_ratio_unique</th>\n",
       "      <th>wc_diff_unq_stop</th>\n",
       "      <th>wc_ratio_unique_stop</th>\n",
       "      <th>...</th>\n",
       "      <th>cityblock_distance</th>\n",
       "      <th>canberra_distance</th>\n",
       "      <th>minkowski_distance</th>\n",
       "      <th>braycurtis_distance</th>\n",
       "      <th>skew_q1vec</th>\n",
       "      <th>skew_q2vec</th>\n",
       "      <th>kur_q1vec</th>\n",
       "      <th>q1_q2_intersect</th>\n",
       "      <th>q1_freq</th>\n",
       "      <th>q2_freq</th>\n",
       "    </tr>\n",
       "  </thead>\n",
       "  <tbody>\n",
       "    <tr>\n",
       "      <th>229090</th>\n",
       "      <td>0.750000</td>\n",
       "      <td>0.706577</td>\n",
       "      <td>0.730434</td>\n",
       "      <td>0.500000</td>\n",
       "      <td>1</td>\n",
       "      <td>0.875</td>\n",
       "      <td>1</td>\n",
       "      <td>0.875</td>\n",
       "      <td>2</td>\n",
       "      <td>0.600000</td>\n",
       "      <td>...</td>\n",
       "      <td>7.840840</td>\n",
       "      <td>127.005896</td>\n",
       "      <td>0.254952</td>\n",
       "      <td>0.292590</td>\n",
       "      <td>-0.073095</td>\n",
       "      <td>-0.106657</td>\n",
       "      <td>-0.415193</td>\n",
       "      <td>1</td>\n",
       "      <td>3</td>\n",
       "      <td>2</td>\n",
       "    </tr>\n",
       "    <tr>\n",
       "      <th>18027</th>\n",
       "      <td>0.666667</td>\n",
       "      <td>0.666972</td>\n",
       "      <td>0.737261</td>\n",
       "      <td>0.333333</td>\n",
       "      <td>0</td>\n",
       "      <td>1.000</td>\n",
       "      <td>0</td>\n",
       "      <td>1.000</td>\n",
       "      <td>0</td>\n",
       "      <td>1.000000</td>\n",
       "      <td>...</td>\n",
       "      <td>8.170552</td>\n",
       "      <td>128.155678</td>\n",
       "      <td>0.260511</td>\n",
       "      <td>0.303738</td>\n",
       "      <td>0.067811</td>\n",
       "      <td>0.147733</td>\n",
       "      <td>-0.080394</td>\n",
       "      <td>4</td>\n",
       "      <td>6</td>\n",
       "      <td>8</td>\n",
       "    </tr>\n",
       "    <tr>\n",
       "      <th>120688</th>\n",
       "      <td>0.695652</td>\n",
       "      <td>0.763476</td>\n",
       "      <td>0.713954</td>\n",
       "      <td>0.681818</td>\n",
       "      <td>1</td>\n",
       "      <td>0.950</td>\n",
       "      <td>3</td>\n",
       "      <td>0.850</td>\n",
       "      <td>3</td>\n",
       "      <td>0.769231</td>\n",
       "      <td>...</td>\n",
       "      <td>8.457547</td>\n",
       "      <td>131.021706</td>\n",
       "      <td>0.266438</td>\n",
       "      <td>0.315307</td>\n",
       "      <td>0.047875</td>\n",
       "      <td>0.141016</td>\n",
       "      <td>-0.094543</td>\n",
       "      <td>0</td>\n",
       "      <td>2</td>\n",
       "      <td>1</td>\n",
       "    </tr>\n",
       "    <tr>\n",
       "      <th>272940</th>\n",
       "      <td>0.545455</td>\n",
       "      <td>0.502982</td>\n",
       "      <td>0.573567</td>\n",
       "      <td>0.400000</td>\n",
       "      <td>5</td>\n",
       "      <td>1.625</td>\n",
       "      <td>5</td>\n",
       "      <td>1.625</td>\n",
       "      <td>3</td>\n",
       "      <td>1.750000</td>\n",
       "      <td>...</td>\n",
       "      <td>5.927663</td>\n",
       "      <td>98.602686</td>\n",
       "      <td>0.195784</td>\n",
       "      <td>0.214771</td>\n",
       "      <td>-0.100558</td>\n",
       "      <td>-0.134806</td>\n",
       "      <td>-0.396855</td>\n",
       "      <td>0</td>\n",
       "      <td>9</td>\n",
       "      <td>8</td>\n",
       "    </tr>\n",
       "    <tr>\n",
       "      <th>226468</th>\n",
       "      <td>0.800000</td>\n",
       "      <td>0.987288</td>\n",
       "      <td>1.000000</td>\n",
       "      <td>0.750000</td>\n",
       "      <td>2</td>\n",
       "      <td>0.750</td>\n",
       "      <td>2</td>\n",
       "      <td>0.750</td>\n",
       "      <td>1</td>\n",
       "      <td>0.666667</td>\n",
       "      <td>...</td>\n",
       "      <td>0.000000</td>\n",
       "      <td>0.000000</td>\n",
       "      <td>0.000000</td>\n",
       "      <td>0.000000</td>\n",
       "      <td>0.230799</td>\n",
       "      <td>0.230799</td>\n",
       "      <td>-0.315706</td>\n",
       "      <td>0</td>\n",
       "      <td>2</td>\n",
       "      <td>3</td>\n",
       "    </tr>\n",
       "  </tbody>\n",
       "</table>\n",
       "<p>5 rows × 45 columns</p>\n",
       "</div>"
      ],
      "text/plain": [
       "        word_match  tfidf_wm  tfidf_wm_stops   jaccard  wc_diff  wc_ratio  \\\n",
       "229090    0.750000  0.706577        0.730434  0.500000        1     0.875   \n",
       "18027     0.666667  0.666972        0.737261  0.333333        0     1.000   \n",
       "120688    0.695652  0.763476        0.713954  0.681818        1     0.950   \n",
       "272940    0.545455  0.502982        0.573567  0.400000        5     1.625   \n",
       "226468    0.800000  0.987288        1.000000  0.750000        2     0.750   \n",
       "\n",
       "        wc_diff_unique  wc_ratio_unique  wc_diff_unq_stop  \\\n",
       "229090               1            0.875                 2   \n",
       "18027                0            1.000                 0   \n",
       "120688               3            0.850                 3   \n",
       "272940               5            1.625                 3   \n",
       "226468               2            0.750                 1   \n",
       "\n",
       "        wc_ratio_unique_stop  ...  cityblock_distance  canberra_distance  \\\n",
       "229090              0.600000  ...            7.840840         127.005896   \n",
       "18027               1.000000  ...            8.170552         128.155678   \n",
       "120688              0.769231  ...            8.457547         131.021706   \n",
       "272940              1.750000  ...            5.927663          98.602686   \n",
       "226468              0.666667  ...            0.000000           0.000000   \n",
       "\n",
       "        minkowski_distance  braycurtis_distance  skew_q1vec  skew_q2vec  \\\n",
       "229090            0.254952             0.292590   -0.073095   -0.106657   \n",
       "18027             0.260511             0.303738    0.067811    0.147733   \n",
       "120688            0.266438             0.315307    0.047875    0.141016   \n",
       "272940            0.195784             0.214771   -0.100558   -0.134806   \n",
       "226468            0.000000             0.000000    0.230799    0.230799   \n",
       "\n",
       "        kur_q1vec  q1_q2_intersect  q1_freq  q2_freq  \n",
       "229090  -0.415193                1        3        2  \n",
       "18027   -0.080394                4        6        8  \n",
       "120688  -0.094543                0        2        1  \n",
       "272940  -0.396855                0        9        8  \n",
       "226468  -0.315706                0        2        3  \n",
       "\n",
       "[5 rows x 45 columns]"
      ]
     },
     "execution_count": 10,
     "metadata": {},
     "output_type": "execute_result"
    }
   ],
   "source": [
    "X_train.head()"
   ]
  },
  {
   "cell_type": "code",
   "execution_count": 11,
   "metadata": {},
   "outputs": [
    {
     "name": "stdout",
     "output_type": "stream",
     "text": [
      "0.18975293212164862\n"
     ]
    }
   ],
   "source": [
    "pos_train = X_train[y_train == 1]\n",
    "neg_train = X_train[y_train == 0]\n",
    "X_train = pd.concat((neg_train, pos_train.iloc[:int(0.8*len(pos_train))], neg_train))\n",
    "y_train = np.array([0] * neg_train.shape[0] + [1] * pos_train.iloc[:int(0.8*len(pos_train))].shape[0] + [0] * neg_train.shape[0])\n",
    "print(np.mean(y_train))\n",
    "del pos_train, neg_train"
   ]
  },
  {
   "cell_type": "code",
   "execution_count": 12,
   "metadata": {},
   "outputs": [
    {
     "name": "stdout",
     "output_type": "stream",
     "text": [
      "0.18923467767545252\n"
     ]
    }
   ],
   "source": [
    "pos_valid = X_valid[y_valid == 1]\n",
    "neg_valid = X_valid[y_valid == 0]\n",
    "X_valid = pd.concat((neg_valid, pos_valid.iloc[:int(0.8 * len(pos_valid))], neg_valid))\n",
    "y_valid = np.array([0] * neg_valid.shape[0] + [1] * pos_valid.iloc[:int(0.8 * len(pos_valid))].shape[0] + [0] * neg_valid.shape[0])\n",
    "print(np.mean(y_valid))\n",
    "del pos_valid, neg_valid"
   ]
  },
  {
   "cell_type": "code",
   "execution_count": 13,
   "metadata": {},
   "outputs": [
    {
     "data": {
      "text/plain": [
       "(566484, 45)"
      ]
     },
     "execution_count": 13,
     "metadata": {},
     "output_type": "execute_result"
    }
   ],
   "source": [
    "X_train.shape"
   ]
  },
  {
   "cell_type": "code",
   "execution_count": 14,
   "metadata": {},
   "outputs": [
    {
     "data": {
      "text/plain": [
       "(566484,)"
      ]
     },
     "execution_count": 14,
     "metadata": {},
     "output_type": "execute_result"
    }
   ],
   "source": [
    "y_train.shape"
   ]
  },
  {
   "cell_type": "code",
   "execution_count": 18,
   "metadata": {},
   "outputs": [
    {
     "name": "stdout",
     "output_type": "stream",
     "text": [
      "[0]\ttrain-logloss:0.47543\tvalid-logloss:0.474788\n",
      "Multiple eval metrics have been passed: 'valid-logloss' will be used for early stopping.\n",
      "\n",
      "Will train until valid-logloss hasn't improved in 50 rounds.\n",
      "[50]\ttrain-logloss:0.2714\tvalid-logloss:0.273313\n",
      "[100]\ttrain-logloss:0.221714\tvalid-logloss:0.224774\n",
      "[150]\ttrain-logloss:0.204029\tvalid-logloss:0.207911\n",
      "[200]\ttrain-logloss:0.196353\tvalid-logloss:0.200878\n",
      "[250]\ttrain-logloss:0.191871\tvalid-logloss:0.197101\n",
      "[300]\ttrain-logloss:0.188169\tvalid-logloss:0.194071\n",
      "[350]\ttrain-logloss:0.184928\tvalid-logloss:0.19183\n",
      "[400]\ttrain-logloss:0.182368\tvalid-logloss:0.190371\n",
      "[450]\ttrain-logloss:0.180033\tvalid-logloss:0.189137\n",
      "[500]\ttrain-logloss:0.178061\tvalid-logloss:0.188247\n",
      "[550]\ttrain-logloss:0.176344\tvalid-logloss:0.187594\n",
      "[600]\ttrain-logloss:0.174781\tvalid-logloss:0.18699\n",
      "[650]\ttrain-logloss:0.173306\tvalid-logloss:0.186533\n",
      "[700]\ttrain-logloss:0.171841\tvalid-logloss:0.186087\n",
      "[750]\ttrain-logloss:0.170544\tvalid-logloss:0.185794\n",
      "[800]\ttrain-logloss:0.169253\tvalid-logloss:0.185507\n",
      "[850]\ttrain-logloss:0.168074\tvalid-logloss:0.185286\n",
      "[900]\ttrain-logloss:0.166994\tvalid-logloss:0.185094\n",
      "[950]\ttrain-logloss:0.165794\tvalid-logloss:0.184852\n",
      "[1000]\ttrain-logloss:0.164539\tvalid-logloss:0.184672\n",
      "[1050]\ttrain-logloss:0.16341\tvalid-logloss:0.184515\n",
      "[1100]\ttrain-logloss:0.162244\tvalid-logloss:0.184347\n",
      "[1150]\ttrain-logloss:0.161257\tvalid-logloss:0.184188\n",
      "[1200]\ttrain-logloss:0.160227\tvalid-logloss:0.184105\n",
      "[1250]\ttrain-logloss:0.159233\tvalid-logloss:0.184025\n",
      "[1300]\ttrain-logloss:0.158221\tvalid-logloss:0.183885\n",
      "[1350]\ttrain-logloss:0.157211\tvalid-logloss:0.183783\n",
      "[1400]\ttrain-logloss:0.156321\tvalid-logloss:0.183684\n",
      "[1450]\ttrain-logloss:0.1554\tvalid-logloss:0.183641\n",
      "[1500]\ttrain-logloss:0.154475\tvalid-logloss:0.183579\n",
      "[1550]\ttrain-logloss:0.15355\tvalid-logloss:0.183482\n",
      "[1600]\ttrain-logloss:0.152603\tvalid-logloss:0.183419\n",
      "[1650]\ttrain-logloss:0.151692\tvalid-logloss:0.183368\n",
      "[1700]\ttrain-logloss:0.150738\tvalid-logloss:0.183301\n",
      "[1750]\ttrain-logloss:0.149782\tvalid-logloss:0.183249\n",
      "[1800]\ttrain-logloss:0.148893\tvalid-logloss:0.183178\n",
      "[1850]\ttrain-logloss:0.148029\tvalid-logloss:0.183129\n",
      "[1900]\ttrain-logloss:0.147167\tvalid-logloss:0.183064\n",
      "[1950]\ttrain-logloss:0.146335\tvalid-logloss:0.182988\n",
      "[2000]\ttrain-logloss:0.145458\tvalid-logloss:0.182956\n",
      "[2050]\ttrain-logloss:0.144658\tvalid-logloss:0.182937\n",
      "[2100]\ttrain-logloss:0.14385\tvalid-logloss:0.182937\n",
      "Stopping. Best iteration:\n",
      "[2067]\ttrain-logloss:0.144369\tvalid-logloss:0.182917\n",
      "\n",
      "0.18294025406641415\n"
     ]
    }
   ],
   "source": [
    "params = {}\n",
    "params['objective'] = 'binary:logistic'\n",
    "params['eval_metric'] = 'logloss'\n",
    "params['eta'] = 0.02\n",
    "params['max_depth'] = 7\n",
    "params['subsample'] = 0.6\n",
    "params['base_score'] = 0.2\n",
    "# params['scale_pos_weight'] = 0.2\n",
    "\n",
    "d_train = xgb.DMatrix(X_train, label=y_train)\n",
    "d_valid = xgb.DMatrix(X_valid, label=y_valid)\n",
    "\n",
    "watchlist = [(d_train, 'train'), (d_valid, 'valid')]\n",
    "\n",
    "bst = xgb.train(params, d_train, 2500, watchlist, early_stopping_rounds=50, verbose_eval=50)\n",
    "print(log_loss(y_valid, bst.predict(d_valid)))"
   ]
  },
  {
   "cell_type": "code",
   "execution_count": 19,
   "metadata": {},
   "outputs": [],
   "source": [
    "# bst.save_model('qp_data/xgb.model')"
   ]
  },
  {
   "cell_type": "code",
   "execution_count": null,
   "metadata": {},
   "outputs": [],
   "source": [
    "print(log_loss(y_valid, bst.predict(d_valid)))"
   ]
  },
  {
   "cell_type": "code",
   "execution_count": 15,
   "metadata": {},
   "outputs": [],
   "source": [
    "bst= xgb.Booster(model_file='qp_data/xgb.model')\n"
   ]
  },
  {
   "cell_type": "code",
   "execution_count": 16,
   "metadata": {},
   "outputs": [],
   "source": [
    "X_test = pd.read_csv('qp_data/X_test.csv')"
   ]
  },
  {
   "cell_type": "code",
   "execution_count": 17,
   "metadata": {},
   "outputs": [
    {
     "data": {
      "text/html": [
       "<div>\n",
       "<style scoped>\n",
       "    .dataframe tbody tr th:only-of-type {\n",
       "        vertical-align: middle;\n",
       "    }\n",
       "\n",
       "    .dataframe tbody tr th {\n",
       "        vertical-align: top;\n",
       "    }\n",
       "\n",
       "    .dataframe thead th {\n",
       "        text-align: right;\n",
       "    }\n",
       "</style>\n",
       "<table border=\"1\" class=\"dataframe\">\n",
       "  <thead>\n",
       "    <tr style=\"text-align: right;\">\n",
       "      <th></th>\n",
       "      <th>word_match</th>\n",
       "      <th>tfidf_wm</th>\n",
       "      <th>tfidf_wm_stops</th>\n",
       "      <th>jaccard</th>\n",
       "      <th>wc_diff</th>\n",
       "      <th>wc_ratio</th>\n",
       "      <th>wc_diff_unique</th>\n",
       "      <th>wc_ratio_unique</th>\n",
       "      <th>wc_diff_unq_stop</th>\n",
       "      <th>wc_ratio_unique_stop</th>\n",
       "      <th>...</th>\n",
       "      <th>cityblock_distance</th>\n",
       "      <th>canberra_distance</th>\n",
       "      <th>minkowski_distance</th>\n",
       "      <th>braycurtis_distance</th>\n",
       "      <th>skew_q1vec</th>\n",
       "      <th>skew_q2vec</th>\n",
       "      <th>kur_q1vec</th>\n",
       "      <th>q1_q2_intersect</th>\n",
       "      <th>q1_freq</th>\n",
       "      <th>q2_freq</th>\n",
       "    </tr>\n",
       "  </thead>\n",
       "  <tbody>\n",
       "    <tr>\n",
       "      <th>0</th>\n",
       "      <td>0.266667</td>\n",
       "      <td>0.234251</td>\n",
       "      <td>0.274019</td>\n",
       "      <td>0.090909</td>\n",
       "      <td>3</td>\n",
       "      <td>1.272727</td>\n",
       "      <td>2</td>\n",
       "      <td>1.181818</td>\n",
       "      <td>3</td>\n",
       "      <td>1.500000</td>\n",
       "      <td>...</td>\n",
       "      <td>12.006720</td>\n",
       "      <td>164.254264</td>\n",
       "      <td>0.407153</td>\n",
       "      <td>0.483565</td>\n",
       "      <td>0.045990</td>\n",
       "      <td>0.009958</td>\n",
       "      <td>0.039938</td>\n",
       "      <td>0</td>\n",
       "      <td>1</td>\n",
       "      <td>1</td>\n",
       "    </tr>\n",
       "    <tr>\n",
       "      <th>1</th>\n",
       "      <td>0.500000</td>\n",
       "      <td>0.436043</td>\n",
       "      <td>0.480962</td>\n",
       "      <td>0.235294</td>\n",
       "      <td>7</td>\n",
       "      <td>0.500000</td>\n",
       "      <td>7</td>\n",
       "      <td>0.500000</td>\n",
       "      <td>2</td>\n",
       "      <td>0.714286</td>\n",
       "      <td>...</td>\n",
       "      <td>6.501658</td>\n",
       "      <td>115.512012</td>\n",
       "      <td>0.210239</td>\n",
       "      <td>0.245248</td>\n",
       "      <td>-0.017419</td>\n",
       "      <td>-0.046821</td>\n",
       "      <td>0.207580</td>\n",
       "      <td>0</td>\n",
       "      <td>2</td>\n",
       "      <td>2</td>\n",
       "    </tr>\n",
       "    <tr>\n",
       "      <th>2</th>\n",
       "      <td>0.444444</td>\n",
       "      <td>0.418727</td>\n",
       "      <td>0.468893</td>\n",
       "      <td>0.285714</td>\n",
       "      <td>8</td>\n",
       "      <td>0.428571</td>\n",
       "      <td>6</td>\n",
       "      <td>0.500000</td>\n",
       "      <td>3</td>\n",
       "      <td>0.500000</td>\n",
       "      <td>...</td>\n",
       "      <td>8.129246</td>\n",
       "      <td>125.626922</td>\n",
       "      <td>0.253134</td>\n",
       "      <td>0.299802</td>\n",
       "      <td>0.072835</td>\n",
       "      <td>-0.058206</td>\n",
       "      <td>-0.505310</td>\n",
       "      <td>0</td>\n",
       "      <td>1</td>\n",
       "      <td>1</td>\n",
       "    </tr>\n",
       "    <tr>\n",
       "      <th>3</th>\n",
       "      <td>0.000000</td>\n",
       "      <td>0.000000</td>\n",
       "      <td>0.000000</td>\n",
       "      <td>0.000000</td>\n",
       "      <td>1</td>\n",
       "      <td>0.750000</td>\n",
       "      <td>1</td>\n",
       "      <td>0.750000</td>\n",
       "      <td>0</td>\n",
       "      <td>1.000000</td>\n",
       "      <td>...</td>\n",
       "      <td>10.918439</td>\n",
       "      <td>159.496524</td>\n",
       "      <td>0.366312</td>\n",
       "      <td>0.438647</td>\n",
       "      <td>0.060417</td>\n",
       "      <td>0.069599</td>\n",
       "      <td>-0.241064</td>\n",
       "      <td>0</td>\n",
       "      <td>1</td>\n",
       "      <td>1</td>\n",
       "    </tr>\n",
       "    <tr>\n",
       "      <th>4</th>\n",
       "      <td>0.800000</td>\n",
       "      <td>0.841273</td>\n",
       "      <td>1.000000</td>\n",
       "      <td>0.428571</td>\n",
       "      <td>2</td>\n",
       "      <td>1.500000</td>\n",
       "      <td>2</td>\n",
       "      <td>1.500000</td>\n",
       "      <td>1</td>\n",
       "      <td>0.666667</td>\n",
       "      <td>...</td>\n",
       "      <td>0.000000</td>\n",
       "      <td>0.000000</td>\n",
       "      <td>0.000000</td>\n",
       "      <td>0.000000</td>\n",
       "      <td>0.006085</td>\n",
       "      <td>0.006085</td>\n",
       "      <td>-0.081313</td>\n",
       "      <td>0</td>\n",
       "      <td>1</td>\n",
       "      <td>1</td>\n",
       "    </tr>\n",
       "  </tbody>\n",
       "</table>\n",
       "<p>5 rows × 45 columns</p>\n",
       "</div>"
      ],
      "text/plain": [
       "   word_match  tfidf_wm  tfidf_wm_stops   jaccard  wc_diff  wc_ratio  \\\n",
       "0    0.266667  0.234251        0.274019  0.090909        3  1.272727   \n",
       "1    0.500000  0.436043        0.480962  0.235294        7  0.500000   \n",
       "2    0.444444  0.418727        0.468893  0.285714        8  0.428571   \n",
       "3    0.000000  0.000000        0.000000  0.000000        1  0.750000   \n",
       "4    0.800000  0.841273        1.000000  0.428571        2  1.500000   \n",
       "\n",
       "   wc_diff_unique  wc_ratio_unique  wc_diff_unq_stop  wc_ratio_unique_stop  \\\n",
       "0               2         1.181818                 3              1.500000   \n",
       "1               7         0.500000                 2              0.714286   \n",
       "2               6         0.500000                 3              0.500000   \n",
       "3               1         0.750000                 0              1.000000   \n",
       "4               2         1.500000                 1              0.666667   \n",
       "\n",
       "   ...  cityblock_distance  canberra_distance  minkowski_distance  \\\n",
       "0  ...           12.006720         164.254264            0.407153   \n",
       "1  ...            6.501658         115.512012            0.210239   \n",
       "2  ...            8.129246         125.626922            0.253134   \n",
       "3  ...           10.918439         159.496524            0.366312   \n",
       "4  ...            0.000000           0.000000            0.000000   \n",
       "\n",
       "   braycurtis_distance  skew_q1vec  skew_q2vec  kur_q1vec  q1_q2_intersect  \\\n",
       "0             0.483565    0.045990    0.009958   0.039938                0   \n",
       "1             0.245248   -0.017419   -0.046821   0.207580                0   \n",
       "2             0.299802    0.072835   -0.058206  -0.505310                0   \n",
       "3             0.438647    0.060417    0.069599  -0.241064                0   \n",
       "4             0.000000    0.006085    0.006085  -0.081313                0   \n",
       "\n",
       "   q1_freq  q2_freq  \n",
       "0        1        1  \n",
       "1        2        2  \n",
       "2        1        1  \n",
       "3        1        1  \n",
       "4        1        1  \n",
       "\n",
       "[5 rows x 45 columns]"
      ]
     },
     "execution_count": 17,
     "metadata": {},
     "output_type": "execute_result"
    }
   ],
   "source": [
    "X_test.head()"
   ]
  },
  {
   "cell_type": "code",
   "execution_count": 18,
   "metadata": {},
   "outputs": [],
   "source": [
    "test = pd.read_csv('qp_data/test.csv')"
   ]
  },
  {
   "cell_type": "code",
   "execution_count": 19,
   "metadata": {},
   "outputs": [],
   "source": [
    "d_test = xgb.DMatrix(X_test)\n",
    "p_test = bst.predict(d_test)"
   ]
  },
  {
   "cell_type": "code",
   "execution_count": 20,
   "metadata": {},
   "outputs": [],
   "source": [
    "sub = pd.DataFrame()\n",
    "sub['test_id'] = test['test_id']\n",
    "sub['is_duplicate'] = p_test"
   ]
  },
  {
   "cell_type": "code",
   "execution_count": 21,
   "metadata": {},
   "outputs": [
    {
     "data": {
      "text/html": [
       "<div>\n",
       "<style scoped>\n",
       "    .dataframe tbody tr th:only-of-type {\n",
       "        vertical-align: middle;\n",
       "    }\n",
       "\n",
       "    .dataframe tbody tr th {\n",
       "        vertical-align: top;\n",
       "    }\n",
       "\n",
       "    .dataframe thead th {\n",
       "        text-align: right;\n",
       "    }\n",
       "</style>\n",
       "<table border=\"1\" class=\"dataframe\">\n",
       "  <thead>\n",
       "    <tr style=\"text-align: right;\">\n",
       "      <th></th>\n",
       "      <th>test_id</th>\n",
       "      <th>is_duplicate</th>\n",
       "    </tr>\n",
       "  </thead>\n",
       "  <tbody>\n",
       "    <tr>\n",
       "      <th>0</th>\n",
       "      <td>0</td>\n",
       "      <td>0.000101</td>\n",
       "    </tr>\n",
       "    <tr>\n",
       "      <th>1</th>\n",
       "      <td>1</td>\n",
       "      <td>0.146597</td>\n",
       "    </tr>\n",
       "    <tr>\n",
       "      <th>2</th>\n",
       "      <td>2</td>\n",
       "      <td>0.249101</td>\n",
       "    </tr>\n",
       "    <tr>\n",
       "      <th>3</th>\n",
       "      <td>3</td>\n",
       "      <td>0.000119</td>\n",
       "    </tr>\n",
       "    <tr>\n",
       "      <th>4</th>\n",
       "      <td>4</td>\n",
       "      <td>0.047839</td>\n",
       "    </tr>\n",
       "  </tbody>\n",
       "</table>\n",
       "</div>"
      ],
      "text/plain": [
       "   test_id  is_duplicate\n",
       "0        0      0.000101\n",
       "1        1      0.146597\n",
       "2        2      0.249101\n",
       "3        3      0.000119\n",
       "4        4      0.047839"
      ]
     },
     "execution_count": 21,
     "metadata": {},
     "output_type": "execute_result"
    }
   ],
   "source": [
    "sub.head()"
   ]
  },
  {
   "cell_type": "code",
   "execution_count": 22,
   "metadata": {},
   "outputs": [],
   "source": [
    "sub.to_csv('qp_data/submission.csv',index = False)"
   ]
  },
  {
   "cell_type": "code",
   "execution_count": 19,
   "metadata": {},
   "outputs": [],
   "source": [
    "import operator\n",
    "import matplotlib.pyplot as plt"
   ]
  },
  {
   "cell_type": "code",
   "execution_count": 20,
   "metadata": {},
   "outputs": [
    {
     "name": "stdout",
     "output_type": "stream",
     "text": [
      "Features importances...\n",
      "[('f10', 951), ('f8', 958), ('f6', 1258), ('f4', 1345), ('f22', 1971), ('f13', 1996), ('f23', 2200), ('f19', 2299), ('f26', 2304), ('f38', 2554), ('f35', 2578), ('f9', 2729), ('f7', 2759), ('f5', 2773), ('f15', 2809), ('f14', 2863), ('f37', 3007), ('f11', 3235), ('f20', 3372), ('f21', 3375), ('f12', 3512), ('f34', 3863), ('f43', 4317), ('f0', 4320), ('f42', 4410), ('f36', 4675), ('f29', 4783), ('f30', 4785), ('f17', 4981), ('f25', 5057), ('f18', 5156), ('f31', 5186), ('f44', 5202), ('f16', 5214), ('f3', 6280), ('f27', 6375), ('f32', 6879), ('f33', 7551), ('f2', 8798), ('f40', 8954), ('f39', 9066), ('f41', 10019), ('f1', 10859)]\n"
     ]
    }
   ],
   "source": [
    "%matplotlib inline\n",
    "\n",
    "print(\"Features importances...\")\n",
    "importance = bst.get_fscore()\n",
    "importance = sorted(importance.items(), key=operator.itemgetter(1))\n",
    "ft = pd.DataFrame(importance, columns=['feature', 'fscore'])\n",
    "print(importance)\n",
    "\n"
   ]
  },
  {
   "cell_type": "code",
   "execution_count": 21,
   "metadata": {},
   "outputs": [],
   "source": [
    "ft['feature']=ft['feature'].replace('\\D+', '', regex=True).astype(int)"
   ]
  },
  {
   "cell_type": "code",
   "execution_count": 22,
   "metadata": {},
   "outputs": [
    {
     "data": {
      "text/plain": [
       "(43, 2)"
      ]
     },
     "execution_count": 22,
     "metadata": {},
     "output_type": "execute_result"
    }
   ],
   "source": [
    "ft.shape"
   ]
  },
  {
   "cell_type": "code",
   "execution_count": 24,
   "metadata": {},
   "outputs": [],
   "source": [
    "name = X_train.columns.values"
   ]
  },
  {
   "cell_type": "code",
   "execution_count": 25,
   "metadata": {},
   "outputs": [
    {
     "name": "stdout",
     "output_type": "stream",
     "text": [
      "common_words.1\n"
     ]
    },
    {
     "data": {
      "text/plain": [
       "'fuzz_partial_token_set_ratio'"
      ]
     },
     "execution_count": 25,
     "metadata": {},
     "output_type": "execute_result"
    }
   ],
   "source": [
    "print(name[24])\n",
    "name[28]"
   ]
  },
  {
   "cell_type": "code",
   "execution_count": 26,
   "metadata": {},
   "outputs": [],
   "source": [
    "name = np.delete(name, [24,28])"
   ]
  },
  {
   "cell_type": "code",
   "execution_count": 27,
   "metadata": {},
   "outputs": [
    {
     "data": {
      "text/plain": [
       "array(['word_match', 'tfidf_wm', 'tfidf_wm_stops', 'jaccard', 'wc_diff',\n",
       "       'wc_ratio', 'wc_diff_unique', 'wc_ratio_unique',\n",
       "       'wc_diff_unq_stop', 'wc_ratio_unique_stop', 'same_start',\n",
       "       'char_diff', 'char_diff_unq_stop', 'common_words',\n",
       "       'total_unique_words', 'total_unq_words_stop', 'char_ratio',\n",
       "       'len_q1', 'len_q2', 'diff_len', 'len_char_q1', 'len_char_q2',\n",
       "       'len_word_q1', 'len_word_q2', 'fuzz_qratio', 'fuzz_WRatio',\n",
       "       'fuzz_partial_ratio', 'fuzz_partial_token_sort_ratio',\n",
       "       'fuzz_token_set_ratio', 'fuzz_token_sort_ratio', 'wmd', 'norm_wmd',\n",
       "       'cosine_distance', 'cityblock_distance', 'canberra_distance',\n",
       "       'minkowski_distance', 'braycurtis_distance', 'skew_q1vec',\n",
       "       'skew_q2vec', 'kur_q1vec', 'q1_q2_intersect', 'q1_freq', 'q2_freq'],\n",
       "      dtype=object)"
      ]
     },
     "execution_count": 27,
     "metadata": {},
     "output_type": "execute_result"
    }
   ],
   "source": [
    "name"
   ]
  },
  {
   "cell_type": "code",
   "execution_count": 28,
   "metadata": {},
   "outputs": [],
   "source": [
    "ft.sort_values(by=\"feature\" , ascending=True, inplace=True)"
   ]
  },
  {
   "cell_type": "code",
   "execution_count": 31,
   "metadata": {},
   "outputs": [
    {
     "data": {
      "text/html": [
       "<div>\n",
       "<style scoped>\n",
       "    .dataframe tbody tr th:only-of-type {\n",
       "        vertical-align: middle;\n",
       "    }\n",
       "\n",
       "    .dataframe tbody tr th {\n",
       "        vertical-align: top;\n",
       "    }\n",
       "\n",
       "    .dataframe thead th {\n",
       "        text-align: right;\n",
       "    }\n",
       "</style>\n",
       "<table border=\"1\" class=\"dataframe\">\n",
       "  <thead>\n",
       "    <tr style=\"text-align: right;\">\n",
       "      <th></th>\n",
       "      <th>feature</th>\n",
       "      <th>fscore</th>\n",
       "    </tr>\n",
       "  </thead>\n",
       "  <tbody>\n",
       "    <tr>\n",
       "      <th>23</th>\n",
       "      <td>word_match</td>\n",
       "      <td>4320</td>\n",
       "    </tr>\n",
       "    <tr>\n",
       "      <th>42</th>\n",
       "      <td>tfidf_wm</td>\n",
       "      <td>10859</td>\n",
       "    </tr>\n",
       "    <tr>\n",
       "      <th>38</th>\n",
       "      <td>tfidf_wm_stops</td>\n",
       "      <td>8798</td>\n",
       "    </tr>\n",
       "    <tr>\n",
       "      <th>34</th>\n",
       "      <td>jaccard</td>\n",
       "      <td>6280</td>\n",
       "    </tr>\n",
       "    <tr>\n",
       "      <th>3</th>\n",
       "      <td>wc_diff</td>\n",
       "      <td>1345</td>\n",
       "    </tr>\n",
       "    <tr>\n",
       "      <th>13</th>\n",
       "      <td>wc_ratio</td>\n",
       "      <td>2773</td>\n",
       "    </tr>\n",
       "    <tr>\n",
       "      <th>2</th>\n",
       "      <td>wc_diff_unique</td>\n",
       "      <td>1258</td>\n",
       "    </tr>\n",
       "    <tr>\n",
       "      <th>12</th>\n",
       "      <td>wc_ratio_unique</td>\n",
       "      <td>2759</td>\n",
       "    </tr>\n",
       "    <tr>\n",
       "      <th>1</th>\n",
       "      <td>wc_diff_unq_stop</td>\n",
       "      <td>958</td>\n",
       "    </tr>\n",
       "    <tr>\n",
       "      <th>11</th>\n",
       "      <td>wc_ratio_unique_stop</td>\n",
       "      <td>2729</td>\n",
       "    </tr>\n",
       "    <tr>\n",
       "      <th>0</th>\n",
       "      <td>same_start</td>\n",
       "      <td>951</td>\n",
       "    </tr>\n",
       "    <tr>\n",
       "      <th>17</th>\n",
       "      <td>char_diff</td>\n",
       "      <td>3235</td>\n",
       "    </tr>\n",
       "    <tr>\n",
       "      <th>20</th>\n",
       "      <td>char_diff_unq_stop</td>\n",
       "      <td>3512</td>\n",
       "    </tr>\n",
       "    <tr>\n",
       "      <th>5</th>\n",
       "      <td>common_words</td>\n",
       "      <td>1996</td>\n",
       "    </tr>\n",
       "    <tr>\n",
       "      <th>15</th>\n",
       "      <td>total_unique_words</td>\n",
       "      <td>2863</td>\n",
       "    </tr>\n",
       "    <tr>\n",
       "      <th>14</th>\n",
       "      <td>total_unq_words_stop</td>\n",
       "      <td>2809</td>\n",
       "    </tr>\n",
       "    <tr>\n",
       "      <th>33</th>\n",
       "      <td>char_ratio</td>\n",
       "      <td>5214</td>\n",
       "    </tr>\n",
       "    <tr>\n",
       "      <th>28</th>\n",
       "      <td>len_q1</td>\n",
       "      <td>4981</td>\n",
       "    </tr>\n",
       "    <tr>\n",
       "      <th>30</th>\n",
       "      <td>len_q2</td>\n",
       "      <td>5156</td>\n",
       "    </tr>\n",
       "    <tr>\n",
       "      <th>7</th>\n",
       "      <td>diff_len</td>\n",
       "      <td>2299</td>\n",
       "    </tr>\n",
       "    <tr>\n",
       "      <th>18</th>\n",
       "      <td>len_char_q1</td>\n",
       "      <td>3372</td>\n",
       "    </tr>\n",
       "    <tr>\n",
       "      <th>19</th>\n",
       "      <td>len_char_q2</td>\n",
       "      <td>3375</td>\n",
       "    </tr>\n",
       "    <tr>\n",
       "      <th>4</th>\n",
       "      <td>len_word_q1</td>\n",
       "      <td>1971</td>\n",
       "    </tr>\n",
       "    <tr>\n",
       "      <th>6</th>\n",
       "      <td>len_word_q2</td>\n",
       "      <td>2200</td>\n",
       "    </tr>\n",
       "    <tr>\n",
       "      <th>29</th>\n",
       "      <td>fuzz_qratio</td>\n",
       "      <td>5057</td>\n",
       "    </tr>\n",
       "    <tr>\n",
       "      <th>8</th>\n",
       "      <td>fuzz_WRatio</td>\n",
       "      <td>2304</td>\n",
       "    </tr>\n",
       "    <tr>\n",
       "      <th>35</th>\n",
       "      <td>fuzz_partial_ratio</td>\n",
       "      <td>6375</td>\n",
       "    </tr>\n",
       "    <tr>\n",
       "      <th>26</th>\n",
       "      <td>fuzz_partial_token_sort_ratio</td>\n",
       "      <td>4783</td>\n",
       "    </tr>\n",
       "    <tr>\n",
       "      <th>27</th>\n",
       "      <td>fuzz_token_set_ratio</td>\n",
       "      <td>4785</td>\n",
       "    </tr>\n",
       "    <tr>\n",
       "      <th>31</th>\n",
       "      <td>fuzz_token_sort_ratio</td>\n",
       "      <td>5186</td>\n",
       "    </tr>\n",
       "    <tr>\n",
       "      <th>36</th>\n",
       "      <td>wmd</td>\n",
       "      <td>6879</td>\n",
       "    </tr>\n",
       "    <tr>\n",
       "      <th>37</th>\n",
       "      <td>norm_wmd</td>\n",
       "      <td>7551</td>\n",
       "    </tr>\n",
       "    <tr>\n",
       "      <th>21</th>\n",
       "      <td>cosine_distance</td>\n",
       "      <td>3863</td>\n",
       "    </tr>\n",
       "    <tr>\n",
       "      <th>10</th>\n",
       "      <td>cityblock_distance</td>\n",
       "      <td>2578</td>\n",
       "    </tr>\n",
       "    <tr>\n",
       "      <th>25</th>\n",
       "      <td>canberra_distance</td>\n",
       "      <td>4675</td>\n",
       "    </tr>\n",
       "    <tr>\n",
       "      <th>16</th>\n",
       "      <td>minkowski_distance</td>\n",
       "      <td>3007</td>\n",
       "    </tr>\n",
       "    <tr>\n",
       "      <th>9</th>\n",
       "      <td>braycurtis_distance</td>\n",
       "      <td>2554</td>\n",
       "    </tr>\n",
       "    <tr>\n",
       "      <th>40</th>\n",
       "      <td>skew_q1vec</td>\n",
       "      <td>9066</td>\n",
       "    </tr>\n",
       "    <tr>\n",
       "      <th>39</th>\n",
       "      <td>skew_q2vec</td>\n",
       "      <td>8954</td>\n",
       "    </tr>\n",
       "    <tr>\n",
       "      <th>41</th>\n",
       "      <td>kur_q1vec</td>\n",
       "      <td>10019</td>\n",
       "    </tr>\n",
       "    <tr>\n",
       "      <th>24</th>\n",
       "      <td>q1_q2_intersect</td>\n",
       "      <td>4410</td>\n",
       "    </tr>\n",
       "    <tr>\n",
       "      <th>22</th>\n",
       "      <td>q1_freq</td>\n",
       "      <td>4317</td>\n",
       "    </tr>\n",
       "    <tr>\n",
       "      <th>32</th>\n",
       "      <td>q2_freq</td>\n",
       "      <td>5202</td>\n",
       "    </tr>\n",
       "  </tbody>\n",
       "</table>\n",
       "</div>"
      ],
      "text/plain": [
       "                          feature  fscore\n",
       "23                     word_match    4320\n",
       "42                       tfidf_wm   10859\n",
       "38                 tfidf_wm_stops    8798\n",
       "34                        jaccard    6280\n",
       "3                         wc_diff    1345\n",
       "13                       wc_ratio    2773\n",
       "2                  wc_diff_unique    1258\n",
       "12                wc_ratio_unique    2759\n",
       "1                wc_diff_unq_stop     958\n",
       "11           wc_ratio_unique_stop    2729\n",
       "0                      same_start     951\n",
       "17                      char_diff    3235\n",
       "20             char_diff_unq_stop    3512\n",
       "5                    common_words    1996\n",
       "15             total_unique_words    2863\n",
       "14           total_unq_words_stop    2809\n",
       "33                     char_ratio    5214\n",
       "28                         len_q1    4981\n",
       "30                         len_q2    5156\n",
       "7                        diff_len    2299\n",
       "18                    len_char_q1    3372\n",
       "19                    len_char_q2    3375\n",
       "4                     len_word_q1    1971\n",
       "6                     len_word_q2    2200\n",
       "29                    fuzz_qratio    5057\n",
       "8                     fuzz_WRatio    2304\n",
       "35             fuzz_partial_ratio    6375\n",
       "26  fuzz_partial_token_sort_ratio    4783\n",
       "27           fuzz_token_set_ratio    4785\n",
       "31          fuzz_token_sort_ratio    5186\n",
       "36                            wmd    6879\n",
       "37                       norm_wmd    7551\n",
       "21                cosine_distance    3863\n",
       "10             cityblock_distance    2578\n",
       "25              canberra_distance    4675\n",
       "16             minkowski_distance    3007\n",
       "9             braycurtis_distance    2554\n",
       "40                     skew_q1vec    9066\n",
       "39                     skew_q2vec    8954\n",
       "41                      kur_q1vec   10019\n",
       "24                q1_q2_intersect    4410\n",
       "22                        q1_freq    4317\n",
       "32                        q2_freq    5202"
      ]
     },
     "execution_count": 31,
     "metadata": {},
     "output_type": "execute_result"
    }
   ],
   "source": [
    "ft['feature'] = name\n",
    "ft"
   ]
  },
  {
   "cell_type": "code",
   "execution_count": 36,
   "metadata": {},
   "outputs": [],
   "source": [
    "ft.sort_values(by=\"fscore\" , ascending=True, inplace=True)"
   ]
  },
  {
   "cell_type": "code",
   "execution_count": 37,
   "metadata": {},
   "outputs": [
    {
     "data": {
      "image/png": "[encoded data removed]",
      "text/plain": [
       "<Figure size 720x1800 with 1 Axes>"
      ]
     },
     "metadata": {
      "needs_background": "light"
     },
     "output_type": "display_data"
    }
   ],
   "source": [
    "ft.plot(kind='barh', x='feature', y='fscore', legend=False, figsize=(10, 25))\n",
    "plt.gcf().savefig('features_importance.png')"
   ]
  }
 ],
 "metadata": {
  "celltoolbar": "Raw Cell Format",
  "kernelspec": {
   "display_name": "Python 3",
   "language": "python",
   "name": "python3"
  },
  "language_info": {
   "codemirror_mode": {
    "name": "ipython",
    "version": 3
   },
   "file_extension": ".py",
   "mimetype": "text/x-python",
   "name": "python",
   "nbconvert_exporter": "python",
   "pygments_lexer": "ipython3",
   "version": "3.7.4"
  }
 },
 "nbformat": 4,
 "nbformat_minor": 2
}
